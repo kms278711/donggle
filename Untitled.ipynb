{
 "cells": [
  {
   "cell_type": "code",
   "execution_count": 6,
   "id": "5b6468e0",
   "metadata": {},
   "outputs": [],
   "source": [
    "import tensorflow as tf\n",
    "#from sklearn.datasets import load_iris\n",
    "import pandas as pd\n",
    "import numpy as np\n",
    "from PIL import Image\n",
    "from numpy import asarray"
   ]
  },
  {
   "cell_type": "code",
   "execution_count": 7,
   "id": "e445bd89",
   "metadata": {},
   "outputs": [],
   "source": [
    "test_model = tf.keras.models.load_model('./osy_model.h5')"
   ]
  },
  {
   "cell_type": "code",
   "execution_count": 10,
   "id": "aa9ba5c4",
   "metadata": {},
   "outputs": [
    {
     "name": "stdout",
     "output_type": "stream",
     "text": [
      "PNG\n",
      "(1152, 648)\n",
      "RGB\n"
     ]
    }
   ],
   "source": [
    "can_img = Image.open('can.png')\n",
    "\n",
    "# summarize some details about the image\n",
    "print(can_img.format)\n",
    "print(can_img.size)\n",
    "print(can_img.mode)"
   ]
  },
  {
   "cell_type": "code",
   "execution_count": 11,
   "id": "5d678771",
   "metadata": {},
   "outputs": [
    {
     "name": "stdout",
     "output_type": "stream",
     "text": [
      "<class 'numpy.ndarray'>\n",
      "(648, 1152, 3)\n"
     ]
    }
   ],
   "source": [
    "numpydata = asarray(can_img)\n",
    "# <class 'numpy.ndarray'>\n",
    "print(type(numpydata))\n",
    "\n",
    "#  shape\n",
    "print(numpydata.shape)\n",
    "#print(numpydata)"
   ]
  },
  {
   "cell_type": "code",
   "execution_count": 13,
   "id": "e868ebe6",
   "metadata": {},
   "outputs": [
    {
     "name": "stdout",
     "output_type": "stream",
     "text": [
      "(648, 1152, 3)\n"
     ]
    }
   ],
   "source": [
    "np_img = np.array(can_img)\n",
    "print(np_img.shape)\n",
    "#print(np_img)"
   ]
  },
  {
   "cell_type": "code",
   "execution_count": 46,
   "id": "d4f4ef4c",
   "metadata": {
    "scrolled": false
   },
   "outputs": [
    {
     "name": "stdout",
     "output_type": "stream",
     "text": [
      "[[[255 255 255]\n",
      "  [255 255 255]\n",
      "  [255 255 255]\n",
      "  ...\n",
      "  [255 255 255]\n",
      "  [255 255 255]\n",
      "  [255 255 255]]\n",
      "\n",
      " [[255 255 255]\n",
      "  [255 255 255]\n",
      "  [255 255 255]\n",
      "  ...\n",
      "  [255 255 255]\n",
      "  [255 255 255]\n",
      "  [255 255 255]]\n",
      "\n",
      " [[255 255 255]\n",
      "  [255 255 255]\n",
      "  [255 255 255]\n",
      "  ...\n",
      "  [255 255 255]\n",
      "  [255 255 255]\n",
      "  [255 255 255]]\n",
      "\n",
      " ...\n",
      "\n",
      " [[255 255 255]\n",
      "  [255 255 255]\n",
      "  [255 255 255]\n",
      "  ...\n",
      "  [255 255 255]\n",
      "  [255 255 255]\n",
      "  [255 255 255]]\n",
      "\n",
      " [[255 255 255]\n",
      "  [255 255 255]\n",
      "  [255 255 255]\n",
      "  ...\n",
      "  [255 255 255]\n",
      "  [255 255 255]\n",
      "  [255 255 255]]\n",
      "\n",
      " [[255 255 255]\n",
      "  [255 255 255]\n",
      "  [255 255 255]\n",
      "  ...\n",
      "  [255 255 255]\n",
      "  [255 255 255]\n",
      "  [255 255 255]]]\n"
     ]
    }
   ],
   "source": [
    "tmp = can_img.resize((28, 28))\n",
    "\n",
    "np_img = np.array(tmp)\n",
    "#print(np_img.shape)\n",
    "print(np_img)"
   ]
  },
  {
   "cell_type": "code",
   "execution_count": 16,
   "id": "acb07762",
   "metadata": {},
   "outputs": [],
   "source": [
    "import matplotlib.pyplot as plt"
   ]
  },
  {
   "cell_type": "code",
   "execution_count": 40,
   "id": "4049cbb3",
   "metadata": {},
   "outputs": [
    {
     "data": {
      "text/plain": [
       "<matplotlib.image.AxesImage at 0x26ac420c5c0>"
      ]
     },
     "execution_count": 40,
     "metadata": {},
     "output_type": "execute_result"
    },
    {
     "data": {
      "image/png": "[encoded data removed]",
      "text/plain": [
       "<Figure size 640x480 with 1 Axes>"
      ]
     },
     "metadata": {},
     "output_type": "display_data"
    }
   ],
   "source": [
    "plt.imshow(np_img)"
   ]
  },
  {
   "cell_type": "code",
   "execution_count": 19,
   "id": "3ab91c27",
   "metadata": {
    "scrolled": true
   },
   "outputs": [
    {
     "name": "stdout",
     "output_type": "stream",
     "text": [
      "PNG\n",
      "(28, 28)\n",
      "RGB\n"
     ]
    }
   ],
   "source": [
    "boat_img = Image.open('boat.png')\n",
    "\n",
    "# summarize some details about the image\n",
    "print(boat_img.format)\n",
    "print(boat_img.size)\n",
    "print(boat_img.mode)"
   ]
  },
  {
   "cell_type": "code",
   "execution_count": 68,
   "id": "cb682555",
   "metadata": {
    "scrolled": false
   },
   "outputs": [
    {
     "name": "stdout",
     "output_type": "stream",
     "text": [
      "(28, 28, 3)\n"
     ]
    }
   ],
   "source": [
    "boat_np_img = np.array(boat_img)\n",
    "print(boat_np_img.shape)\n",
    "#plt.imshow(boat_np_img)"
   ]
  },
  {
   "cell_type": "code",
   "execution_count": 26,
   "id": "81b36db6",
   "metadata": {},
   "outputs": [],
   "source": [
    "a = np.load('axe.npy')"
   ]
  },
  {
   "cell_type": "code",
   "execution_count": 67,
   "id": "54bd08ff",
   "metadata": {
    "scrolled": false
   },
   "outputs": [
    {
     "name": "stdout",
     "output_type": "stream",
     "text": [
      "(124122, 784)\n",
      "(28, 28)\n"
     ]
    }
   ],
   "source": [
    "print(a.shape)\n",
    "a2 = a[10].reshape(28, 28)\n",
    "#print(a2)\n",
    "#plt.imshow(a2)\n",
    "print(a2.shape)"
   ]
  },
  {
   "cell_type": "code",
   "execution_count": 60,
   "id": "97de6d53",
   "metadata": {},
   "outputs": [
    {
     "ename": "SyntaxError",
     "evalue": "unexpected EOF while parsing (3260362972.py, line 1)",
     "output_type": "error",
     "traceback": [
      "\u001b[1;36m  File \u001b[1;32m\"C:\\Users\\SSAFY\\AppData\\Local\\Temp\\ipykernel_16208\\3260362972.py\"\u001b[1;36m, line \u001b[1;32m1\u001b[0m\n\u001b[1;33m    pred = test_model.predict(tf.tensor([a2])\u001b[0m\n\u001b[1;37m                                             ^\u001b[0m\n\u001b[1;31mSyntaxError\u001b[0m\u001b[1;31m:\u001b[0m unexpected EOF while parsing\n"
     ]
    }
   ],
   "source": [
    "pred = test_model.predict(tf.tensor([a2])"
   ]
  }
 ],
 "metadata": {
  "kernelspec": {
   "display_name": "test_tensorflow",
   "language": "python",
   "name": "test_tensorflow"
  },
  "language_info": {
   "codemirror_mode": {
    "name": "ipython",
    "version": 3
   },
   "file_extension": ".py",
   "mimetype": "text/x-python",
   "name": "python",
   "nbconvert_exporter": "python",
   "pygments_lexer": "ipython3",
   "version": "3.7.0"
  }
 },
 "nbformat": 4,
 "nbformat_minor": 5
}
