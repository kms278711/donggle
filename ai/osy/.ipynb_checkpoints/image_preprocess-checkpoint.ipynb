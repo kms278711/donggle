{
 "cells": [
  {
   "cell_type": "code",
   "execution_count": 1,
   "id": "5b6468e0",
   "metadata": {},
   "outputs": [],
   "source": [
    "import tensorflow as tf\n",
    "from tensorflow import keras\n",
    "#from sklearn.datasets import load_iris\n",
    "import pandas as pd\n",
    "import numpy as np\n",
    "from PIL import Image\n",
    "from numpy import asarray\n",
    "import cv2"
   ]
  },
  {
   "cell_type": "code",
   "execution_count": 2,
   "id": "aa9ba5c4",
   "metadata": {},
   "outputs": [
    {
     "name": "stdout",
     "output_type": "stream",
     "text": [
      "PNG\n",
      "(1152, 648)\n",
      "RGB\n"
     ]
    }
   ],
   "source": [
    "can_img = Image.open('can.png')\n",
    "\n",
    "# summarize some details about the image\n",
    "print(can_img.format)\n",
    "print(can_img.size)\n",
    "print(can_img.mode)"
   ]
  },
  {
   "cell_type": "code",
   "execution_count": 3,
   "id": "5d678771",
   "metadata": {},
   "outputs": [
    {
     "name": "stdout",
     "output_type": "stream",
     "text": [
      "<class 'numpy.ndarray'>\n",
      "(648, 1152, 3)\n"
     ]
    }
   ],
   "source": [
    "numpydata = asarray(can_img)\n",
    "# <class 'numpy.ndarray'>\n",
    "print(type(numpydata))\n",
    "\n",
    "#  shape\n",
    "print(numpydata.shape)\n",
    "#print(numpydata)"
   ]
  },
  {
   "cell_type": "code",
   "execution_count": 4,
   "id": "e868ebe6",
   "metadata": {},
   "outputs": [
    {
     "name": "stdout",
     "output_type": "stream",
     "text": [
      "(648, 1152, 3)\n"
     ]
    }
   ],
   "source": [
    "np_img = np.array(can_img)\n",
    "print(np_img.shape)\n",
    "#print(np_img)"
   ]
  },
  {
   "cell_type": "code",
   "execution_count": 5,
   "id": "fbab44a9",
   "metadata": {
    "scrolled": false
   },
   "outputs": [],
   "source": [
    "tmp = can_img.resize((28, 28))\n",
    "\n",
    "np_img = np.array(tmp)\n",
    "#print(np_img.shape)\n",
    "#print(np_img)"
   ]
  },
  {
   "cell_type": "code",
   "execution_count": 6,
   "id": "acb07762",
   "metadata": {},
   "outputs": [],
   "source": [
    "import matplotlib.pyplot as plt"
   ]
  },
  {
   "cell_type": "code",
   "execution_count": 7,
   "id": "4049cbb3",
   "metadata": {},
   "outputs": [
    {
     "data": {
      "text/plain": [
       "<matplotlib.image.AxesImage at 0x181404305f8>"
      ]
     },
     "execution_count": 7,
     "metadata": {},
     "output_type": "execute_result"
    },
    {
     "data": {
      "image/png": "[encoded data removed]",
      "text/plain": [
       "<Figure size 640x480 with 1 Axes>"
      ]
     },
     "metadata": {},
     "output_type": "display_data"
    }
   ],
   "source": [
    "plt.imshow(np_img)"
   ]
  },
  {
   "cell_type": "code",
   "execution_count": 8,
   "id": "2e1d76dd",
   "metadata": {
    "scrolled": true
   },
   "outputs": [
    {
     "name": "stdout",
     "output_type": "stream",
     "text": [
      "PNG\n",
      "(28, 28)\n",
      "RGB\n"
     ]
    }
   ],
   "source": [
    "boat_img = Image.open('boat.png')\n",
    "\n",
    "# summarize some details about the image\n",
    "print(boat_img.format)\n",
    "print(boat_img.size)\n",
    "print(boat_img.mode)"
   ]
  },
  {
   "cell_type": "code",
   "execution_count": 9,
   "id": "e5d649b3",
   "metadata": {
    "scrolled": false
   },
   "outputs": [
    {
     "name": "stdout",
     "output_type": "stream",
     "text": [
      "(28, 28, 3)\n"
     ]
    },
    {
     "data": {
      "text/plain": [
       "<matplotlib.image.AxesImage at 0x18140ae8ef0>"
      ]
     },
     "execution_count": 9,
     "metadata": {},
     "output_type": "execute_result"
    },
    {
     "data": {
      "image/png": "[encoded data removed]",
      "text/plain": [
       "<Figure size 640x480 with 1 Axes>"
      ]
     },
     "metadata": {},
     "output_type": "display_data"
    }
   ],
   "source": [
    "boat_np_img = np.array(boat_img)\n",
    "print(boat_np_img.shape)\n",
    "plt.imshow(boat_np_img)"
   ]
  },
  {
   "cell_type": "code",
   "execution_count": 10,
   "id": "2aa151ab",
   "metadata": {},
   "outputs": [],
   "source": [
    "a = np.load('axe.npy')"
   ]
  },
  {
   "cell_type": "code",
   "execution_count": 11,
   "id": "e29f05e4",
   "metadata": {
    "scrolled": false
   },
   "outputs": [
    {
     "name": "stdout",
     "output_type": "stream",
     "text": [
      "(124122, 784)\n",
      "(28, 28)\n"
     ]
    },
    {
     "data": {
      "image/png": "[encoded data removed]",
      "text/plain": [
       "<Figure size 640x480 with 1 Axes>"
      ]
     },
     "metadata": {},
     "output_type": "display_data"
    }
   ],
   "source": [
    "print(a.shape)\n",
    "a2 = a[10].reshape(28, 28)\n",
    "#print(a2)\n",
    "plt.imshow(a2, 'gray')\n",
    "print(a2.shape)"
   ]
  },
  {
   "cell_type": "code",
   "execution_count": 12,
   "id": "cdce5796",
   "metadata": {},
   "outputs": [],
   "source": [
    "# Read class names\n",
    "with open(\"class_names.txt\", \"r\") as ins:\n",
    "  class_names = []\n",
    "  for line in ins:\n",
    "    class_names.append(line.rstrip('\\n'))"
   ]
  },
  {
   "cell_type": "code",
   "execution_count": 13,
   "id": "40dd6b39",
   "metadata": {},
   "outputs": [
    {
     "name": "stdout",
     "output_type": "stream",
     "text": [
      "Model: \"sequential_1\"\n",
      "_________________________________________________________________\n",
      " Layer (type)                Output Shape              Param #   \n",
      "=================================================================\n",
      " conv2d (Conv2D)             (None, 28, 28, 16)        160       \n",
      "                                                                 \n",
      " conv2d_1 (Conv2D)           (None, 28, 28, 16)        2320      \n",
      "                                                                 \n",
      " max_pooling2d (MaxPooling2D  (None, 14, 14, 16)       0         \n",
      " )                                                               \n",
      "                                                                 \n",
      " conv2d_2 (Conv2D)           (None, 14, 14, 32)        4640      \n",
      "                                                                 \n",
      " conv2d_3 (Conv2D)           (None, 14, 14, 32)        9248      \n",
      "                                                                 \n",
      " max_pooling2d_1 (MaxPooling  (None, 7, 7, 32)         0         \n",
      " 2D)                                                             \n",
      "                                                                 \n",
      " conv2d_4 (Conv2D)           (None, 7, 7, 64)          18496     \n",
      "                                                                 \n",
      " conv2d_5 (Conv2D)           (None, 7, 7, 64)          36928     \n",
      "                                                                 \n",
      " max_pooling2d_2 (MaxPooling  (None, 3, 3, 64)         0         \n",
      " 2D)                                                             \n",
      "                                                                 \n",
      " dropout (Dropout)           (None, 3, 3, 64)          0         \n",
      "                                                                 \n",
      " flatten (Flatten)           (None, 576)               0         \n",
      "                                                                 \n",
      " dense_2 (Dense)             (None, 512)               295424    \n",
      "                                                                 \n",
      " dense_3 (Dense)             (None, 345)               176985    \n",
      "                                                                 \n",
      "=================================================================\n",
      "Total params: 544,201\n",
      "Trainable params: 544,201\n",
      "Non-trainable params: 0\n",
      "_________________________________________________________________\n"
     ]
    }
   ],
   "source": [
    "# Load the model\n",
    "test_model = keras.models.load_model('./osy_model.h5')\n",
    "test_model.summary()"
   ]
  },
  {
   "cell_type": "code",
   "execution_count": 14,
   "id": "140f3c95",
   "metadata": {},
   "outputs": [
    {
     "data": {
      "text/plain": [
       "<matplotlib.image.AxesImage at 0x18140b9ef28>"
      ]
     },
     "execution_count": 14,
     "metadata": {},
     "output_type": "execute_result"
    },
    {
     "data": {
      "image/png": "[encoded data removed]",
      "text/plain": [
       "<Figure size 640x480 with 1 Axes>"
      ]
     },
     "metadata": {},
     "output_type": "display_data"
    }
   ],
   "source": [
    "boat_img = cv2.imread('boat.png')\n",
    "boat_img = cv2.resize(boat_img, (28, 28))\n",
    "boat_img = cv2.cvtColor(boat_img, cv2.COLOR_BGR2GRAY)\n",
    "boat_img = boat_img.reshape((28, 28, 1))\n",
    "boat_img = (255 -boat_img) / 255\n",
    "plt.imshow(boat_img)"
   ]
  },
  {
   "cell_type": "code",
   "execution_count": 15,
   "id": "9314af9a",
   "metadata": {
    "scrolled": true
   },
   "outputs": [
    {
     "name": "stdout",
     "output_type": "stream",
     "text": [
      "1/1 [==============================] - 5s 5s/step\n"
     ]
    }
   ],
   "source": [
    "pred = test_model.predict(np.expand_dims(boat_img, axis=0))[0]"
   ]
  },
  {
   "cell_type": "code",
   "execution_count": 16,
   "id": "fe7ff247",
   "metadata": {},
   "outputs": [
    {
     "name": "stdout",
     "output_type": "stream",
     "text": [
      "['sailboat', 'speedboat', 'elbow', 'shark', 'foot', 'broom', 'beach', 'canoe', 'swan', 'finger']\n"
     ]
    }
   ],
   "source": [
    "ind = (-pred).argsort()[:10]\n",
    "latex = [class_names[x] for x in ind]\n",
    "print(latex)"
   ]
  },
  {
   "cell_type": "code",
   "execution_count": 17,
   "id": "36fe91f2",
   "metadata": {},
   "outputs": [
    {
     "data": {
      "text/plain": [
       "<matplotlib.image.AxesImage at 0x1814e5392e8>"
      ]
     },
     "execution_count": 17,
     "metadata": {},
     "output_type": "execute_result"
    },
    {
     "data": {
      "image/png": "[encoded data removed]",
      "text/plain": [
       "<Figure size 640x480 with 1 Axes>"
      ]
     },
     "metadata": {},
     "output_type": "display_data"
    }
   ],
   "source": [
    "umb_img = cv2.imread('umbrella.png')\n",
    "umb_img = cv2.resize(umb_img, (28, 28))\n",
    "umb_img = cv2.cvtColor(umb_img, cv2.COLOR_BGR2GRAY)\n",
    "umb_img = umb_img.reshape((28, 28, 1))\n",
    "umb_img = (255 - umb_img) / 255\n",
    "plt.imshow(umb_img)"
   ]
  },
  {
   "cell_type": "code",
   "execution_count": 18,
   "id": "b9fd3b16",
   "metadata": {},
   "outputs": [
    {
     "name": "stdout",
     "output_type": "stream",
     "text": [
      "1/1 [==============================] - 0s 17ms/step\n"
     ]
    }
   ],
   "source": [
    "pred = test_model.predict(np.expand_dims(umb_img, axis=0))[0]"
   ]
  },
  {
   "cell_type": "code",
   "execution_count": 19,
   "id": "0a2d60a5",
   "metadata": {},
   "outputs": [
    {
     "name": "stdout",
     "output_type": "stream",
     "text": [
      "['umbrella', 'floor_lamp', 'tree', 'stitches', 'beach', 'animal_migration', 'lantern', 'flashlight', 'camouflage', 'palm_tree']\n"
     ]
    }
   ],
   "source": [
    "ind = (-pred).argsort()[:10]\n",
    "latex = [class_names[x] for x in ind]\n",
    "print(latex)"
   ]
  },
  {
   "cell_type": "code",
   "execution_count": null,
   "id": "f6163a04",
   "metadata": {},
   "outputs": [],
   "source": []
  }
 ],
 "metadata": {
  "kernelspec": {
   "display_name": "test_tensorflow",
   "language": "python",
   "name": "test_tensorflow"
  },
  "language_info": {
   "codemirror_mode": {
    "name": "ipython",
    "version": 3
   },
   "file_extension": ".py",
   "mimetype": "text/x-python",
   "name": "python",
   "nbconvert_exporter": "python",
   "pygments_lexer": "ipython3",
   "version": "3.7.0"
  }
 },
 "nbformat": 4,
 "nbformat_minor": 5
}
