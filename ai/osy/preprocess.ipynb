{
 "cells": [
  {
   "cell_type": "code",
   "execution_count": 1,
   "id": "72f28bfc",
   "metadata": {},
   "outputs": [],
   "source": [
    "import tensorflow as tf\n",
    "from tensorflow import keras\n",
    "import pandas as pd\n",
    "import numpy as np\n",
    "from PIL import Image\n",
    "from numpy import asarray\n",
    "import cv2"
   ]
  },
  {
   "cell_type": "code",
   "execution_count": 2,
   "id": "3a26bcb3",
   "metadata": {},
   "outputs": [
    {
     "name": "stdout",
     "output_type": "stream",
     "text": [
      "Model: \"sequential_1\"\n",
      "_________________________________________________________________\n",
      " Layer (type)                Output Shape              Param #   \n",
      "=================================================================\n",
      " conv2d (Conv2D)             (None, 28, 28, 16)        160       \n",
      "                                                                 \n",
      " conv2d_1 (Conv2D)           (None, 28, 28, 16)        2320      \n",
      "                                                                 \n",
      " max_pooling2d (MaxPooling2D  (None, 14, 14, 16)       0         \n",
      " )                                                               \n",
      "                                                                 \n",
      " conv2d_2 (Conv2D)           (None, 14, 14, 32)        4640      \n",
      "                                                                 \n",
      " conv2d_3 (Conv2D)           (None, 14, 14, 32)        9248      \n",
      "                                                                 \n",
      " max_pooling2d_1 (MaxPooling  (None, 7, 7, 32)         0         \n",
      " 2D)                                                             \n",
      "                                                                 \n",
      " conv2d_4 (Conv2D)           (None, 7, 7, 64)          18496     \n",
      "                                                                 \n",
      " conv2d_5 (Conv2D)           (None, 7, 7, 64)          36928     \n",
      "                                                                 \n",
      " max_pooling2d_2 (MaxPooling  (None, 3, 3, 64)         0         \n",
      " 2D)                                                             \n",
      "                                                                 \n",
      " dropout (Dropout)           (None, 3, 3, 64)          0         \n",
      "                                                                 \n",
      " flatten (Flatten)           (None, 576)               0         \n",
      "                                                                 \n",
      " dense_2 (Dense)             (None, 512)               295424    \n",
      "                                                                 \n",
      " dense_3 (Dense)             (None, 345)               176985    \n",
      "                                                                 \n",
      "=================================================================\n",
      "Total params: 544,201\n",
      "Trainable params: 544,201\n",
      "Non-trainable params: 0\n",
      "_________________________________________________________________\n"
     ]
    }
   ],
   "source": [
    "# Load the model\n",
    "test_model = keras.models.load_model('./osy_model.h5')\n",
    "test_model.summary()"
   ]
  },
  {
   "cell_type": "code",
   "execution_count": null,
   "id": "54696060",
   "metadata": {},
   "outputs": [],
   "source": [
    "input_img = cv2.imread('input.png')\n",
    "input_img = cv2.resize(input_img, (28, 28))\n",
    "input_img = cv2.cvtColor(input_img, cv2.COLOR_BGR2GRAY)\n",
    "input_img = input_img.reshape((28, 28, 1))\n",
    "input_img = (255 -input_img) / 255"
   ]
  },
  {
   "cell_type": "code",
   "execution_count": null,
   "id": "b418ca6f",
   "metadata": {},
   "outputs": [],
   "source": [
    "pred = test_model.predict(np.expand_dims(input_img, axis=0))[0]"
   ]
  },
  {
   "cell_type": "code",
   "execution_count": null,
   "id": "0d4dadad",
   "metadata": {},
   "outputs": [],
   "source": [
    "ind = (-pred).argsort()[:10]\n",
    "index = [class_names[x] for x in ind]\n",
    "print(index)"
   ]
  }
 ],
 "metadata": {
  "kernelspec": {
   "display_name": "test_tensorflow",
   "language": "python",
   "name": "test_tensorflow"
  },
  "language_info": {
   "codemirror_mode": {
    "name": "ipython",
    "version": 3
   },
   "file_extension": ".py",
   "mimetype": "text/x-python",
   "name": "python",
   "nbconvert_exporter": "python",
   "pygments_lexer": "ipython3",
   "version": "3.7.0"
  }
 },
 "nbformat": 4,
 "nbformat_minor": 5
}
