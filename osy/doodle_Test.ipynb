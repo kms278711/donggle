{
 "cells": [
  {
   "cell_type": "code",
   "execution_count": 5,
   "id": "3e1a5ec4-e0b4-492f-8ab1-060d559a3ee5",
   "metadata": {},
   "outputs": [],
   "source": [
    "import wget"
   ]
  },
  {
   "cell_type": "code",
   "execution_count": 7,
   "id": "35bdbcfb-4b2b-44ca-aeb7-3f26c086585d",
   "metadata": {},
   "outputs": [
    {
     "name": "stdout",
     "output_type": "stream",
     "text": [
      "100% [................................................................................] 2791 / 2791"
     ]
    },
    {
     "data": {
      "text/plain": [
       "'categories (1).txt'"
      ]
     },
     "execution_count": 7,
     "metadata": {},
     "output_type": "execute_result"
    }
   ],
   "source": [
    "url = 'https://raw.githubusercontent.com/googlecreativelab/quickdraw-dataset/master/categories.txt'\n",
    "wget.download(url)"
   ]
  },
  {
   "cell_type": "code",
   "execution_count": 2,
   "id": "fb88e4b0-ec57-4d49-8dbf-89eca18dea9c",
   "metadata": {},
   "outputs": [],
   "source": [
    "f = open(\"class_names2.txt\",\"r\")\n",
    "# And for reading use\n",
    "classes = f.readlines()\n",
    "f.close()"
   ]
  },
  {
   "cell_type": "code",
   "execution_count": 3,
   "id": "3552b396-c96e-4edf-9a9d-030cd0c2d7e4",
   "metadata": {},
   "outputs": [
    {
     "name": "stdout",
     "output_type": "stream",
     "text": [
      "['apple', 'axe', 'airplane', 'alarm_clock', 'circle', 'face', 'potato', 'pig', 'hurricane', 'cookie', 'cake', 'baseball', 'soccer_ball', 'pickup_truck']\n"
     ]
    }
   ],
   "source": [
    "classes = [c.replace('\\n','').replace(' ','_') for c in classes]\n",
    "print(classes)"
   ]
  },
  {
   "cell_type": "code",
   "execution_count": 64,
   "id": "fede0142-f2a2-4e7d-bb7a-68a85dd01a41",
   "metadata": {},
   "outputs": [
    {
     "name": "stderr",
     "output_type": "stream",
     "text": [
      "하위 디렉터리 또는 파일 data이(가) 이미 있습니다.\n"
     ]
    }
   ],
   "source": [
    "!mkdir data"
   ]
  },
  {
   "cell_type": "code",
   "execution_count": 65,
   "id": "677ce308",
   "metadata": {},
   "outputs": [
    {
     "name": "stderr",
     "output_type": "stream",
     "text": [
      "하위 디렉터리 또는 파일 data2이(가) 이미 있습니다.\n"
     ]
    }
   ],
   "source": [
    "!mkdir data2"
   ]
  },
  {
   "cell_type": "code",
   "execution_count": 4,
   "id": "db881302-14a0-4cce-afe3-23fc24f66baf",
   "metadata": {},
   "outputs": [],
   "source": [
    "import os\n",
    "import glob\n",
    "import numpy as np\n",
    "from tensorflow.keras import layers\n",
    "from tensorflow import keras \n",
    "import tensorflow as tf"
   ]
  },
  {
   "cell_type": "code",
   "execution_count": 67,
   "id": "ac50435c-9403-4aab-9515-f9faa48a517f",
   "metadata": {},
   "outputs": [],
   "source": [
    "import urllib.request\n",
    "def download():\n",
    "  \n",
    "  base = 'https://storage.googleapis.com/quickdraw_dataset/full/numpy_bitmap/'\n",
    "  for c in classes:\n",
    "    cls_url = c.replace('_', '%20')\n",
    "    path = base+cls_url+'.npy'\n",
    "    print(path)\n",
    "    urllib.request.urlretrieve(path, 'data2/'+c+'.npy')"
   ]
  },
  {
   "cell_type": "code",
   "execution_count": 68,
   "id": "aac766b7-611b-464c-b8a6-cbf5079fdfc7",
   "metadata": {},
   "outputs": [
    {
     "name": "stdout",
     "output_type": "stream",
     "text": [
      "https://storage.googleapis.com/quickdraw_dataset/full/numpy_bitmap/apple.npy\n",
      "https://storage.googleapis.com/quickdraw_dataset/full/numpy_bitmap/axe.npy\n",
      "https://storage.googleapis.com/quickdraw_dataset/full/numpy_bitmap/airplane.npy\n",
      "https://storage.googleapis.com/quickdraw_dataset/full/numpy_bitmap/alarm%20clock.npy\n",
      "https://storage.googleapis.com/quickdraw_dataset/full/numpy_bitmap/circle.npy\n",
      "https://storage.googleapis.com/quickdraw_dataset/full/numpy_bitmap/face.npy\n",
      "https://storage.googleapis.com/quickdraw_dataset/full/numpy_bitmap/potato.npy\n",
      "https://storage.googleapis.com/quickdraw_dataset/full/numpy_bitmap/pig.npy\n",
      "https://storage.googleapis.com/quickdraw_dataset/full/numpy_bitmap/hurricane.npy\n",
      "https://storage.googleapis.com/quickdraw_dataset/full/numpy_bitmap/cookie.npy\n",
      "https://storage.googleapis.com/quickdraw_dataset/full/numpy_bitmap/cake.npy\n",
      "https://storage.googleapis.com/quickdraw_dataset/full/numpy_bitmap/baseball.npy\n",
      "https://storage.googleapis.com/quickdraw_dataset/full/numpy_bitmap/soccer%20ball.npy\n",
      "https://storage.googleapis.com/quickdraw_dataset/full/numpy_bitmap/pickup%20truck.npy\n"
     ]
    }
   ],
   "source": [
    "download()"
   ]
  },
  {
   "cell_type": "code",
   "execution_count": 30,
   "id": "6f287eb9-5201-4108-b119-55a7308ecc80",
   "metadata": {},
   "outputs": [],
   "source": [
    "def load_data(root, vfold_ratio=0.1, max_items_per_class=10000):\n",
    "    all_files = glob.glob(os.path.join(root, '*.npy'))\n",
    "\n",
    "    #initialize variables \n",
    "    x = np.empty([0, 784])\n",
    "    y = np.empty([0])\n",
    "    class_names = []\n",
    "\n",
    "    #load each data file \n",
    "    for idx, file in enumerate(all_files):\n",
    "        print(idx)\n",
    "        print(file)\n",
    "        data = np.load(file)\n",
    "        data = data[0: max_items_per_class, :]\n",
    "        labels = np.full(data.shape[0], idx)\n",
    "\n",
    "        x = np.concatenate((x, data), axis=0)\n",
    "        y = np.append(y, labels)\n",
    "\n",
    "        class_name, ext = os.path.splitext(os.path.basename(file))\n",
    "        class_names.append(class_name)\n",
    "\n",
    "    data = None\n",
    "    labels = None\n",
    "    \n",
    "    #randomize the dataset \n",
    "    permutation = np.random.permutation(y.shape[0])\n",
    "    x = x[permutation, :]\n",
    "    y = y[permutation]\n",
    "\n",
    "    #separate into training and testing \n",
    "    vfold_size = int(x.shape[0]/100*(vfold_ratio*100))\n",
    "\n",
    "    x_test = x[0:vfold_size, :]\n",
    "    y_test = y[0:vfold_size]\n",
    "\n",
    "    x_train = x[vfold_size:x.shape[0], :]\n",
    "    y_train = y[vfold_size:y.shape[0]]\n",
    "    return x_train, y_train, x_test, y_test, class_names"
   ]
  },
  {
   "cell_type": "code",
   "execution_count": 31,
   "id": "994cf525-c5eb-4007-9772-669c65df0622",
   "metadata": {
    "scrolled": false
   },
   "outputs": [
    {
     "name": "stdout",
     "output_type": "stream",
     "text": [
      "0\n",
      "data2\\airplane.npy\n",
      "1\n",
      "data2\\alarm_clock.npy\n",
      "2\n",
      "data2\\apple.npy\n",
      "3\n",
      "data2\\axe.npy\n",
      "4\n",
      "data2\\baseball.npy\n",
      "5\n",
      "data2\\cake.npy\n",
      "6\n",
      "data2\\circle.npy\n",
      "7\n",
      "data2\\cookie.npy\n",
      "8\n",
      "data2\\face.npy\n",
      "9\n",
      "data2\\hurricane.npy\n",
      "10\n",
      "data2\\pickup_truck.npy\n",
      "11\n",
      "data2\\pig.npy\n",
      "12\n",
      "data2\\potato.npy\n",
      "13\n",
      "data2\\soccer_ball.npy\n"
     ]
    }
   ],
   "source": [
    "x_train, y_train, x_test, y_test, class_names = load_data('data2')\n",
    "num_classes = len(class_names)\n",
    "image_size = 28"
   ]
  },
  {
   "cell_type": "code",
   "execution_count": 32,
   "id": "fc33d53c-e497-43d4-a966-9adf6188315d",
   "metadata": {},
   "outputs": [
    {
     "name": "stdout",
     "output_type": "stream",
     "text": [
      "126000\n",
      "126000\n",
      "14000\n",
      "14000\n"
     ]
    }
   ],
   "source": [
    "print(len(x_train))\n",
    "print(len(y_train))\n",
    "print(len(x_test))\n",
    "print(len(y_test))"
   ]
  },
  {
   "cell_type": "code",
   "execution_count": 33,
   "id": "b74e3c45-b63c-4322-b961-7f55a7a3943c",
   "metadata": {
    "scrolled": false
   },
   "outputs": [
    {
     "name": "stdout",
     "output_type": "stream",
     "text": [
      "[[  0.   0.   0.   0.   0.   0.   0.   0.   0.   0.   0.   0.   0.   0.\n",
      "    0.   0.   0.   0.   0.   0.   0.   0.   0.   0.   0.   0.   0.   0.]\n",
      " [  0.   0.   0.   0.   0.   0.   0.   0.   0.   0.   0.   0.   0.   0.\n",
      "    0.   0.   0.   0.   0.   0.   0.   0.   0.   0.   0.   0.   0.   0.]\n",
      " [  0.   0.   0.   0.   0.   0.   0.   0.   0.   0.   0.   0.   0.   0.\n",
      "    0.   0.   0.   0.   0.   0.   0.   0.   0.   0.   0.   0.   0.   0.]\n",
      " [  0.   0.   0.   0.   0.   0.   0.   0.   0.   0.   0.   0.   0.   0.\n",
      "    0.   0.   0.   0.   0.   0.   0.   0.   0.   0.   0.   0.   0.   0.]\n",
      " [  0.   0.   0.   0.   0.   0.   0.   0.   0.   0.   0.   0.   0.   0.\n",
      "    0.   0.   0.   0.   0.   0.   0.   0.   0.   0.   0.   0.   0.   0.]\n",
      " [  0.   0.   0.   0.   0.   0.   0.   0.   0.   0.   0.   0.   0.   0.\n",
      "    0.   0.   0.   0.   0.   0.   0.   0.   0.   0.   0.   0.   0.   0.]\n",
      " [  0.   0.   0.   0.   0.   0.   0.   0.   0.   0.   0.   0.   0.   0.\n",
      "    0.   0.   0.   0.   0.   0.   0.   0.   0.   0.   0.   0.   0.   0.]\n",
      " [  0.   0.   0.   0.   0.   0.   0.   0.   0.   0.   0.   0.   0.   0.\n",
      "    0.   0.   0.   0.   0.   0.   0.   0.   0.   0.   0.   0.   0.   0.]\n",
      " [  0.   0.   0.   0.   0.   0.   0.   0.   0.   0.   0.   0.   0.   0.\n",
      "   10.   4.   0.   0.   0.   0.   0.   0.   0.   0.   0.   0.   0.   0.]\n",
      " [  0.   0.   0.   0.  71. 187. 247. 255. 196.  26. 104. 151. 189. 228.\n",
      "  255. 154.   0.   0.   0.   0.   0.   0.   0.   0.   0.   0.   0.   0.]\n",
      " [  0.   0.   0.   0. 131. 218. 250. 255. 255. 255. 255. 255. 255. 255.\n",
      "  255. 195. 172. 197. 120.   0.   0.   0.   0.   0.   0.   0.   0.   0.]\n",
      " [  0.   0.   0.   0.   0.   4. 236. 255. 255. 255. 255. 255. 255. 255.\n",
      "  255. 255. 255. 245. 159.  30.   0.   0.   0.   0.   0.   0.   0.   0.]\n",
      " [  0.   0.   0.   0.   0.   0. 109. 236. 238. 223. 235. 255. 255. 255.\n",
      "  255. 255. 255. 255. 255. 145.  10.  33.  58.  79. 105. 123.  32.   0.]\n",
      " [  0.   0.   0.   0.   0.   0.   0.  11.  69. 153. 243. 255. 255. 255.\n",
      "  255. 255. 249. 255. 252. 242. 255. 255. 255. 255. 255. 250.  83.   0.]\n",
      " [  0.   0.   0.   0.   0.  57. 191. 250. 255. 255. 255. 255. 255. 255.\n",
      "  255. 255. 255. 255. 255. 255. 219. 168. 126.  84.  43.   5.   0.   0.]\n",
      " [  0.   0.   0.   0. 132. 253. 255. 255. 255. 255. 255. 255. 255. 255.\n",
      "  255. 255. 240. 174. 104.  34.   0.   0.   0.   0.   0.   0.   0.   0.]\n",
      " [  0.   0.   0.   2. 201. 255. 255. 255. 255. 255. 255. 255. 255. 255.\n",
      "  255. 240. 201. 214. 230. 247. 230.   2.   0.   0.   0.   0.   0.   0.]\n",
      " [  0.  17. 129. 224. 255. 255. 255. 255. 255. 255. 255. 255. 244. 228.\n",
      "  212. 195. 179. 162. 146. 130.  90.   0.   0.   0.   0.   0.   0.   0.]\n",
      " [  0.  98. 255. 225. 175. 125.  88.  71.  55.  38.  22.   6.   0.   0.\n",
      "    0.   0.   0.   0.   0.   0.   0.   0.   0.   0.   0.   0.   0.   0.]\n",
      " [  0.   1.  15.   0.   0.   0.   0.   0.   0.   0.   0.   0.   0.   0.\n",
      "    0.   0.   0.   0.   0.   0.   0.   0.   0.   0.   0.   0.   0.   0.]\n",
      " [  0.   0.   0.   0.   0.   0.   0.   0.   0.   0.   0.   0.   0.   0.\n",
      "    0.   0.   0.   0.   0.   0.   0.   0.   0.   0.   0.   0.   0.   0.]\n",
      " [  0.   0.   0.   0.   0.   0.   0.   0.   0.   0.   0.   0.   0.   0.\n",
      "    0.   0.   0.   0.   0.   0.   0.   0.   0.   0.   0.   0.   0.   0.]\n",
      " [  0.   0.   0.   0.   0.   0.   0.   0.   0.   0.   0.   0.   0.   0.\n",
      "    0.   0.   0.   0.   0.   0.   0.   0.   0.   0.   0.   0.   0.   0.]\n",
      " [  0.   0.   0.   0.   0.   0.   0.   0.   0.   0.   0.   0.   0.   0.\n",
      "    0.   0.   0.   0.   0.   0.   0.   0.   0.   0.   0.   0.   0.   0.]\n",
      " [  0.   0.   0.   0.   0.   0.   0.   0.   0.   0.   0.   0.   0.   0.\n",
      "    0.   0.   0.   0.   0.   0.   0.   0.   0.   0.   0.   0.   0.   0.]\n",
      " [  0.   0.   0.   0.   0.   0.   0.   0.   0.   0.   0.   0.   0.   0.\n",
      "    0.   0.   0.   0.   0.   0.   0.   0.   0.   0.   0.   0.   0.   0.]\n",
      " [  0.   0.   0.   0.   0.   0.   0.   0.   0.   0.   0.   0.   0.   0.\n",
      "    0.   0.   0.   0.   0.   0.   0.   0.   0.   0.   0.   0.   0.   0.]\n",
      " [  0.   0.   0.   0.   0.   0.   0.   0.   0.   0.   0.   0.   0.   0.\n",
      "    0.   0.   0.   0.   0.   0.   0.   0.   0.   0.   0.   0.   0.   0.]]\n",
      "hurricane\n"
     ]
    },
    {
     "data": {
      "image/png": "[encoded data removed]",
      "text/plain": [
       "<Figure size 640x480 with 1 Axes>"
      ]
     },
     "metadata": {},
     "output_type": "display_data"
    }
   ],
   "source": [
    "import matplotlib.pyplot as plt\n",
    "from random import randint\n",
    "%matplotlib inline\n",
    "\n",
    "idx = randint(0, len(x_train))\n",
    "print(x_train[idx].reshape(28,28))\n",
    "plt.imshow(x_train[idx].reshape(28,28)) \n",
    "print(class_names[int(y_train[idx].item())])"
   ]
  },
  {
   "cell_type": "code",
   "execution_count": 34,
   "id": "d65e9a89-25d4-464c-8566-c42daee180e3",
   "metadata": {},
   "outputs": [],
   "source": [
    "# Reshape and normalize\n",
    "x_train = x_train.reshape(x_train.shape[0], image_size, image_size, 1).astype('float32')\n",
    "x_test = x_test.reshape(x_test.shape[0], image_size, image_size, 1).astype('float32')\n",
    "\n",
    "x_train /= 255.0\n",
    "x_test /= 255.0\n",
    "\n",
    "# Convert class vectors to class matrices\n",
    "y_train = keras.utils.to_categorical(y_train, num_classes)\n",
    "y_test = keras.utils.to_categorical(y_test, num_classes)"
   ]
  },
  {
   "cell_type": "code",
   "execution_count": 36,
   "id": "970b0513-4a08-4840-865c-1a81fad8d32f",
   "metadata": {
    "scrolled": false
   },
   "outputs": [
    {
     "name": "stdout",
     "output_type": "stream",
     "text": [
      "126000\n",
      "126000\n",
      "14000\n",
      "14000\n",
      "Model: \"sequential_5\"\n",
      "_________________________________________________________________\n",
      " Layer (type)                Output Shape              Param #   \n",
      "=================================================================\n",
      " conv2d_30 (Conv2D)          (None, 28, 28, 16)        160       \n",
      "                                                                 \n",
      " conv2d_31 (Conv2D)          (None, 28, 28, 16)        2320      \n",
      "                                                                 \n",
      " max_pooling2d_15 (MaxPoolin  (None, 14, 14, 16)       0         \n",
      " g2D)                                                            \n",
      "                                                                 \n",
      " conv2d_32 (Conv2D)          (None, 14, 14, 32)        4640      \n",
      "                                                                 \n",
      " conv2d_33 (Conv2D)          (None, 14, 14, 32)        9248      \n",
      "                                                                 \n",
      " max_pooling2d_16 (MaxPoolin  (None, 7, 7, 32)         0         \n",
      " g2D)                                                            \n",
      "                                                                 \n",
      " conv2d_34 (Conv2D)          (None, 7, 7, 64)          18496     \n",
      "                                                                 \n",
      " conv2d_35 (Conv2D)          (None, 7, 7, 64)          36928     \n",
      "                                                                 \n",
      " max_pooling2d_17 (MaxPoolin  (None, 3, 3, 64)         0         \n",
      " g2D)                                                            \n",
      "                                                                 \n",
      " dropout_5 (Dropout)         (None, 3, 3, 64)          0         \n",
      "                                                                 \n",
      " flatten_5 (Flatten)         (None, 576)               0         \n",
      "                                                                 \n",
      " dense_10 (Dense)            (None, 512)               295424    \n",
      "                                                                 \n",
      " dense_11 (Dense)            (None, 14)                7182      \n",
      "                                                                 \n",
      "=================================================================\n",
      "Total params: 374,398\n",
      "Trainable params: 374,398\n",
      "Non-trainable params: 0\n",
      "_________________________________________________________________\n",
      "None\n"
     ]
    }
   ],
   "source": [
    "print(len(x_train))\n",
    "print(len(y_train))\n",
    "print(len(x_test))\n",
    "print(len(y_test))\n",
    "\n",
    "# Define model\n",
    "model = keras.Sequential()\n",
    "model.add(layers.Convolution2D(16, (3, 3),padding='same',input_shape=x_train.shape[1:], activation='relu'))\n",
    "model.add(layers.Convolution2D(16, (3, 3),padding='same',input_shape=x_train.shape[1:], activation='relu'))\n",
    "model.add(layers.MaxPooling2D(pool_size=(2, 2)))\n",
    "\n",
    "\n",
    "model.add(layers.Convolution2D(32, (3, 3), padding='same', activation= 'relu'))\n",
    "model.add(layers.Convolution2D(32, (3, 3), padding='same', activation= 'relu'))\n",
    "model.add(layers.MaxPooling2D(pool_size=(2, 2)))\n",
    "\n",
    "model.add(layers.Convolution2D(64, (3, 3), padding='same', activation= 'relu'))\n",
    "model.add(layers.Convolution2D(64, (3, 3), padding='same', activation= 'relu'))\n",
    "model.add(layers.MaxPooling2D(pool_size =(2,2)))\n",
    "\n",
    "model.add(layers.Dropout(0.1))\n",
    "model.add(layers.Flatten())\n",
    "model.add(layers.Dense(512, activation='tanh'))\n",
    "model.add(layers.Dense(14, activation='softmax')) \n",
    "# Train model\n",
    "adam = tf.optimizers.Adam()\n",
    "model.compile(loss='categorical_crossentropy', optimizer=adam, metrics=['top_k_categorical_accuracy'])\n",
    "print(model.summary())"
   ]
  },
  {
   "cell_type": "code",
   "execution_count": 37,
   "id": "f553cddc-64cb-4357-aea3-1c2afaba0f42",
   "metadata": {},
   "outputs": [
    {
     "name": "stdout",
     "output_type": "stream",
     "text": [
      "Epoch 1/20\n",
      "443/443 - 13s - loss: 0.8264 - top_k_categorical_accuracy: 0.9468 - val_loss: 0.5545 - val_top_k_categorical_accuracy: 0.9704 - 13s/epoch - 28ms/step\n",
      "Epoch 2/20\n",
      "443/443 - 6s - loss: 0.5125 - top_k_categorical_accuracy: 0.9736 - val_loss: 0.4634 - val_top_k_categorical_accuracy: 0.9740 - 6s/epoch - 14ms/step\n",
      "Epoch 3/20\n",
      "443/443 - 6s - loss: 0.4417 - top_k_categorical_accuracy: 0.9781 - val_loss: 0.4365 - val_top_k_categorical_accuracy: 0.9758 - 6s/epoch - 14ms/step\n",
      "Epoch 4/20\n",
      "443/443 - 6s - loss: 0.4016 - top_k_categorical_accuracy: 0.9806 - val_loss: 0.4130 - val_top_k_categorical_accuracy: 0.9773 - 6s/epoch - 14ms/step\n",
      "Epoch 5/20\n",
      "443/443 - 6s - loss: 0.3677 - top_k_categorical_accuracy: 0.9830 - val_loss: 0.3870 - val_top_k_categorical_accuracy: 0.9775 - 6s/epoch - 14ms/step\n",
      "Epoch 6/20\n",
      "443/443 - 6s - loss: 0.3407 - top_k_categorical_accuracy: 0.9848 - val_loss: 0.3763 - val_top_k_categorical_accuracy: 0.9774 - 6s/epoch - 14ms/step\n",
      "Epoch 7/20\n",
      "443/443 - 6s - loss: 0.3233 - top_k_categorical_accuracy: 0.9860 - val_loss: 0.3745 - val_top_k_categorical_accuracy: 0.9787 - 6s/epoch - 14ms/step\n",
      "Epoch 8/20\n",
      "443/443 - 6s - loss: 0.2989 - top_k_categorical_accuracy: 0.9880 - val_loss: 0.3790 - val_top_k_categorical_accuracy: 0.9768 - 6s/epoch - 15ms/step\n",
      "Epoch 9/20\n",
      "443/443 - 6s - loss: 0.2815 - top_k_categorical_accuracy: 0.9892 - val_loss: 0.3686 - val_top_k_categorical_accuracy: 0.9798 - 6s/epoch - 15ms/step\n",
      "Epoch 10/20\n",
      "443/443 - 6s - loss: 0.2602 - top_k_categorical_accuracy: 0.9910 - val_loss: 0.3792 - val_top_k_categorical_accuracy: 0.9795 - 6s/epoch - 15ms/step\n",
      "Epoch 11/20\n",
      "443/443 - 6s - loss: 0.2415 - top_k_categorical_accuracy: 0.9923 - val_loss: 0.3762 - val_top_k_categorical_accuracy: 0.9798 - 6s/epoch - 15ms/step\n",
      "Epoch 12/20\n",
      "443/443 - 6s - loss: 0.2238 - top_k_categorical_accuracy: 0.9934 - val_loss: 0.3805 - val_top_k_categorical_accuracy: 0.9790 - 6s/epoch - 15ms/step\n",
      "Epoch 13/20\n",
      "443/443 - 6s - loss: 0.2064 - top_k_categorical_accuracy: 0.9951 - val_loss: 0.4096 - val_top_k_categorical_accuracy: 0.9785 - 6s/epoch - 15ms/step\n",
      "Epoch 14/20\n",
      "443/443 - 6s - loss: 0.1875 - top_k_categorical_accuracy: 0.9960 - val_loss: 0.4057 - val_top_k_categorical_accuracy: 0.9789 - 6s/epoch - 15ms/step\n",
      "Epoch 15/20\n",
      "443/443 - 6s - loss: 0.1755 - top_k_categorical_accuracy: 0.9964 - val_loss: 0.4140 - val_top_k_categorical_accuracy: 0.9775 - 6s/epoch - 15ms/step\n",
      "Epoch 16/20\n",
      "443/443 - 6s - loss: 0.1623 - top_k_categorical_accuracy: 0.9973 - val_loss: 0.4228 - val_top_k_categorical_accuracy: 0.9785 - 6s/epoch - 15ms/step\n",
      "Epoch 17/20\n",
      "443/443 - 6s - loss: 0.1539 - top_k_categorical_accuracy: 0.9974 - val_loss: 0.4302 - val_top_k_categorical_accuracy: 0.9775 - 6s/epoch - 15ms/step\n",
      "Epoch 18/20\n",
      "443/443 - 6s - loss: 0.1397 - top_k_categorical_accuracy: 0.9981 - val_loss: 0.4361 - val_top_k_categorical_accuracy: 0.9788 - 6s/epoch - 15ms/step\n",
      "Epoch 19/20\n",
      "443/443 - 6s - loss: 0.1365 - top_k_categorical_accuracy: 0.9983 - val_loss: 0.4517 - val_top_k_categorical_accuracy: 0.9765 - 6s/epoch - 15ms/step\n",
      "Epoch 20/20\n",
      "443/443 - 6s - loss: 0.1283 - top_k_categorical_accuracy: 0.9985 - val_loss: 0.4754 - val_top_k_categorical_accuracy: 0.9776 - 6s/epoch - 15ms/step\n"
     ]
    }
   ],
   "source": [
    "hist = model.fit(x = x_train, y = y_train, validation_split=0.1, batch_size = 256, verbose=2, epochs=20)"
   ]
  },
  {
   "cell_type": "code",
   "execution_count": 38,
   "id": "cf0e9efb-d94b-4cae-b246-133360d21d64",
   "metadata": {},
   "outputs": [
    {
     "data": {
      "image/png": "[encoded data removed]",
      "text/plain": [
       "<Figure size 640x480 with 2 Axes>"
      ]
     },
     "metadata": {},
     "output_type": "display_data"
    }
   ],
   "source": [
    "# 5. 모델 학습과정 표시하기\n",
    "%matplotlib inline\n",
    "import matplotlib.pyplot as plt\n",
    "\n",
    "fig, loss_ax = plt.subplots()\n",
    "acc_ax = loss_ax.twinx()\n",
    "\n",
    "loss_ax.plot(hist.history['loss'], 'y', label = 'train loss')\n",
    "loss_ax.plot(hist.history['val_loss'], 'r', label = 'val loss')\n",
    "acc_ax.plot(hist.history['top_k_categorical_accuracy'], 'b', label = 'train accuracy')\n",
    "acc_ax.plot(hist.history['val_top_k_categorical_accuracy'], 'g', label = 'val accuracy')\n",
    "\n",
    "loss_ax.set_xlabel('epoch')\n",
    "loss_ax.set_ylabel('loss')\n",
    "acc_ax.set_xlabel('accuracy')\n",
    "\n",
    "loss_ax.legend(loc = 'upper left')\n",
    "acc_ax.legend(loc = 'lower left')\n",
    "\n",
    "plt.show()"
   ]
  },
  {
   "cell_type": "code",
   "execution_count": 39,
   "id": "00c1ea9b-5bb0-4006-a0e0-8857985df625",
   "metadata": {},
   "outputs": [
    {
     "name": "stdout",
     "output_type": "stream",
     "text": [
      "126000\n",
      "126000\n",
      "14000\n",
      "14000\n",
      "Test accuarcy: 98.14%\n"
     ]
    }
   ],
   "source": [
    "print(len(x_train))\n",
    "print(len(y_train))\n",
    "print(len(x_test))\n",
    "print(len(y_test))\n",
    "score = model.evaluate(x_test, y_test, verbose=0)\n",
    "print('Test accuarcy: {:0.2f}%'.format(score[1] * 100))"
   ]
  },
  {
   "cell_type": "code",
   "execution_count": 42,
   "id": "3246d0a1-08e6-4194-9d31-5b6d373fb66d",
   "metadata": {},
   "outputs": [],
   "source": [
    "with open('class_names2.txt', 'w') as file_handler:\n",
    "    for item in class_names:\n",
    "        file_handler.write(\"{}\\n\".format(item))"
   ]
  },
  {
   "cell_type": "code",
   "execution_count": 43,
   "id": "fac39da7-b7ae-42d4-8337-f345a59e6bbc",
   "metadata": {},
   "outputs": [],
   "source": [
    "model.save('path/osy_model2.h5')"
   ]
  },
  {
   "cell_type": "code",
   "execution_count": null,
   "id": "5294e008",
   "metadata": {},
   "outputs": [],
   "source": []
  }
 ],
 "metadata": {
  "kernelspec": {
   "display_name": "test_tensorflow",
   "language": "python",
   "name": "test_tensorflow"
  },
  "language_info": {
   "codemirror_mode": {
    "name": "ipython",
    "version": 3
   },
   "file_extension": ".py",
   "mimetype": "text/x-python",
   "name": "python",
   "nbconvert_exporter": "python",
   "pygments_lexer": "ipython3",
   "version": "3.7.0"
  }
 },
 "nbformat": 4,
 "nbformat_minor": 5
}
